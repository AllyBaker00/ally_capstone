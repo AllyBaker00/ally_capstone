{
 "cells": [
  {
   "cell_type": "code",
   "execution_count": null,
   "id": "96b06925",
   "metadata": {},
   "outputs": [],
   "source": [
    "import pandas as pd"
   ]
  },
  {
   "cell_type": "code",
   "execution_count": null,
   "id": "bbda080d",
   "metadata": {},
   "outputs": [],
   "source": [
    "tornadoes = pd.read_csv('../data/1950-2022_all_tornadoes.csv')\n",
    "pd.set_option('display.max_columns', None)"
   ]
  },
  {
   "cell_type": "code",
   "execution_count": null,
   "id": "423ff77a",
   "metadata": {},
   "outputs": [],
   "source": [
    "tornadoes.head()"
   ]
  },
  {
   "cell_type": "code",
   "execution_count": null,
   "id": "0c1ad610",
   "metadata": {},
   "outputs": [],
   "source": [
    "#drop columns: stn, closs, om, \n",
    "tornadoes.drop(columns = ['stn', 'closs', 'om'])\n",
    "tornadoes.head(1)"
   ]
  },
  {
   "cell_type": "code",
   "execution_count": null,
   "id": "91841d5e",
   "metadata": {},
   "outputs": [],
   "source": [
    "tornadoes.dtypes"
   ]
  },
  {
   "cell_type": "code",
   "execution_count": null,
   "id": "767ba7c0",
   "metadata": {
    "scrolled": true
   },
   "outputs": [],
   "source": [
    "tornadoes['date'] = pd.to_datetime(tornadoes['date'])\n",
    "tornadoes.head()"
   ]
  },
  {
   "cell_type": "markdown",
   "id": "d34445db",
   "metadata": {},
   "source": [
    "decades = tornadoes[(tornadoes['yr'] == 1950) | (tornadoes['yr'] == 1960) | (tornadoes['yr'] == 1970)|\n",
    "                   (tornadoes['yr'] == 1980) | (tornadoes['yr'] == 1990) | (tornadoes['yr'] == 2000) |\n",
    "                   (tornadoes['yr'] == 2010) | (tornadoes ['yr'] == 2020)]\n"
   ]
  },
  {
   "cell_type": "code",
   "execution_count": null,
   "id": "71c13c72",
   "metadata": {},
   "outputs": [],
   "source": [
    "fifties = tornadoes[tornadoes['yr'].between(1950, 1959)]\n",
    "fifties.head()"
   ]
  },
  {
   "cell_type": "code",
   "execution_count": null,
   "id": "ccc54b13",
   "metadata": {},
   "outputs": [],
   "source": [
    "sixties = tornadoes[tornadoes['yr'].between(1960, 1969)]"
   ]
  },
  {
   "cell_type": "code",
   "execution_count": null,
   "id": "c543b64c",
   "metadata": {},
   "outputs": [],
   "source": [
    "seventies = tornadoes[tornadoes['yr'].between(1970, 1979)]"
   ]
  },
  {
   "cell_type": "code",
   "execution_count": null,
   "id": "f3628e15",
   "metadata": {},
   "outputs": [],
   "source": [
    "eighties = tornadoes[tornadoes['yr'].between(1980, 1989)]"
   ]
  },
  {
   "cell_type": "code",
   "execution_count": null,
   "id": "bf300ebf",
   "metadata": {},
   "outputs": [],
   "source": [
    "nineties = tornadoes[tornadoes['yr'].between(1990, 1999)]"
   ]
  },
  {
   "cell_type": "code",
   "execution_count": null,
   "id": "fc7b50ef",
   "metadata": {},
   "outputs": [],
   "source": [
    "thousands = tornadoes[tornadoes['yr'].between(2000, 2009)]"
   ]
  },
  {
   "cell_type": "code",
   "execution_count": null,
   "id": "7850bdae",
   "metadata": {},
   "outputs": [],
   "source": [
    "tens = tornadoes[tornadoes['yr'].between(2010, 2019)]"
   ]
  },
  {
   "cell_type": "code",
   "execution_count": null,
   "id": "30c5cc79",
   "metadata": {},
   "outputs": [],
   "source": [
    "most_tornadoes = tornadoes.st.value_counts().to_frame().reset_index().head(10)\n",
    "most_tornadoes"
   ]
  },
  {
   "cell_type": "code",
   "execution_count": null,
   "id": "77e39c17",
   "metadata": {},
   "outputs": [],
   "source": [
    "most_injuries = tornadoes['inj'].groupby(tornadoes['st']).value_counts().nlargest(10)\n",
    "most_injuries"
   ]
  },
  {
   "cell_type": "code",
   "execution_count": null,
   "id": "da9797b1",
   "metadata": {},
   "outputs": [],
   "source": [
    "most_fatalities = tornadoes['fat'].groupby(tornadoes['st']).value_counts().nlargest(10)\n",
    "most_fatalities\n"
   ]
  },
  {
   "cell_type": "markdown",
   "id": "6f8c5f9b",
   "metadata": {},
   "source": [
    "#count number of scale categories for each state\n",
    "tornadoes['mag'].groupby(tornadoes['st']).value_counts().\n",
    "\n",
    "groupby and max?"
   ]
  },
  {
   "cell_type": "code",
   "execution_count": null,
   "id": "9752411c",
   "metadata": {},
   "outputs": [],
   "source": [
    "mag_and_state = tornadoes.groupby('st')['mag']"
   ]
  },
  {
   "cell_type": "code",
   "execution_count": null,
   "id": "bccf3b4d",
   "metadata": {},
   "outputs": [],
   "source": [
    "#magnitude by decades \n",
    "\n",
    "fifties.groupby(['st', 'mag'])['mag'].count()"
   ]
  },
  {
   "cell_type": "markdown",
   "id": "93087eec",
   "metadata": {},
   "source": [
    "find avergage mag by state? -overall and - by decade"
   ]
  },
  {
   "cell_type": "code",
   "execution_count": null,
   "id": "9a56814e",
   "metadata": {},
   "outputs": [],
   "source": [
    "avg_mag_st = tornadoes.groupby(['st', 'mag'])['mag'].mean()\n",
    "avg_mag_st"
   ]
  },
  {
   "cell_type": "markdown",
   "id": "2d63e759",
   "metadata": {},
   "source": [
    "top 10 by decade"
   ]
  },
  {
   "cell_type": "code",
   "execution_count": null,
   "id": "398912ad",
   "metadata": {},
   "outputs": [],
   "source": [
    "most_tornadoes_1950 = fifties.st.value_counts().to_frame().reset_index().head(10)\n"
   ]
  },
  {
   "cell_type": "code",
   "execution_count": null,
   "id": "6f2886bf",
   "metadata": {},
   "outputs": [],
   "source": [
    "most_tornadoes_1960 = sixties.st.value_counts().to_frame().reset_index().head(10)"
   ]
  },
  {
   "cell_type": "code",
   "execution_count": null,
   "id": "32998793",
   "metadata": {},
   "outputs": [],
   "source": [
    "most_tornadoes_1970 = seventies.st.value_counts().to_frame().reset_index().head(10)"
   ]
  },
  {
   "cell_type": "code",
   "execution_count": null,
   "id": "643e4a1c",
   "metadata": {},
   "outputs": [],
   "source": [
    "most_tornadoes_1980 = eighties.st.value_counts().to_frame().reset_index().head(10)"
   ]
  },
  {
   "cell_type": "code",
   "execution_count": null,
   "id": "08064598",
   "metadata": {},
   "outputs": [],
   "source": [
    "most_tornadoes_1990 = nineties.st.value_counts().to_frame().reset_index().head(10)"
   ]
  },
  {
   "cell_type": "code",
   "execution_count": null,
   "id": "25870752",
   "metadata": {},
   "outputs": [],
   "source": [
    "most_tornadoes_2000 = thousands.st.value_counts().to_frame().reset_index().head(10)"
   ]
  },
  {
   "cell_type": "code",
   "execution_count": null,
   "id": "6296a2bd",
   "metadata": {},
   "outputs": [],
   "source": [
    "most_tornadoes_2010 = tens.st.value_counts().to_frame().reset_index().head(10)"
   ]
  },
  {
   "cell_type": "code",
   "execution_count": null,
   "id": "1f6df82e",
   "metadata": {},
   "outputs": [],
   "source": [
    "most_tornadoes_1950"
   ]
  },
  {
   "cell_type": "code",
   "execution_count": null,
   "id": "1647581d",
   "metadata": {},
   "outputs": [],
   "source": [
    "most_tornadoes_1960"
   ]
  },
  {
   "cell_type": "code",
   "execution_count": null,
   "id": "10b2277b",
   "metadata": {},
   "outputs": [],
   "source": [
    "most_tornadoes_1970"
   ]
  },
  {
   "cell_type": "code",
   "execution_count": null,
   "id": "da70307f",
   "metadata": {},
   "outputs": [],
   "source": [
    "most_tornadoes_1980"
   ]
  },
  {
   "cell_type": "code",
   "execution_count": null,
   "id": "e0ad7729",
   "metadata": {},
   "outputs": [],
   "source": [
    "most_tornadoes_1990"
   ]
  },
  {
   "cell_type": "code",
   "execution_count": null,
   "id": "75d066c4",
   "metadata": {},
   "outputs": [],
   "source": [
    "most_tornadoes_2000"
   ]
  },
  {
   "cell_type": "code",
   "execution_count": null,
   "id": "b372bf23",
   "metadata": {},
   "outputs": [],
   "source": [
    "most_tornadoes_2010"
   ]
  },
  {
   "cell_type": "code",
   "execution_count": null,
   "id": "2237ea40",
   "metadata": {},
   "outputs": [],
   "source": [
    "most_injuries_1960 = fifties['inj'].groupby(fifties['st']).value_counts().nlargest(10)"
   ]
  },
  {
   "cell_type": "code",
   "execution_count": null,
   "id": "492c19fa",
   "metadata": {},
   "outputs": [],
   "source": [
    "most_injuries_1970 = fifties['inj'].groupby(fifties['st']).value_counts().nlargest(10)"
   ]
  },
  {
   "cell_type": "code",
   "execution_count": null,
   "id": "6d4715d6",
   "metadata": {},
   "outputs": [],
   "source": [
    "most_injuries_1980 = fifties['inj'].groupby(fifties['st']).value_counts().nlargest(10)"
   ]
  },
  {
   "cell_type": "code",
   "execution_count": null,
   "id": "1f450120",
   "metadata": {},
   "outputs": [],
   "source": [
    "most_injuries_1990 = fifties['inj'].groupby(fifties['st']).value_counts().nlargest(10)"
   ]
  },
  {
   "cell_type": "code",
   "execution_count": null,
   "id": "eaece366",
   "metadata": {},
   "outputs": [],
   "source": [
    "most_injuries_2000 = fifties['inj'].groupby(fifties['st']).value_counts().nlargest(10)"
   ]
  },
  {
   "cell_type": "code",
   "execution_count": null,
   "id": "60b4c118",
   "metadata": {},
   "outputs": [],
   "source": [
    "most_injuries_2010 = fifties['inj'].groupby(fifties['st']).value_counts().nlargest(10)"
   ]
  },
  {
   "cell_type": "markdown",
   "id": "0316403d",
   "metadata": {},
   "source": [
    "merge forestry database \n",
    "- drop unnamed and rank\n",
    "rename percent forest\n",
    "rename sdt to st"
   ]
  },
  {
   "cell_type": "code",
   "execution_count": null,
   "id": "a0e659d9",
   "metadata": {},
   "outputs": [],
   "source": [
    "forestry = pd.read_csv('../data/state_foresty.csv')\n",
    "forestry"
   ]
  },
  {
   "cell_type": "code",
   "execution_count": null,
   "id": "142ecdd6",
   "metadata": {},
   "outputs": [],
   "source": [
    "forestry.head(1)"
   ]
  },
  {
   "cell_type": "code",
   "execution_count": null,
   "id": "ed1e9537",
   "metadata": {},
   "outputs": [],
   "source": [
    "forestry = forestry.drop(columns = ['Unnamed: 0', 'Rank'])\n",
    "forestry.head(1)"
   ]
  },
  {
   "cell_type": "code",
   "execution_count": null,
   "id": "aba0c58e",
   "metadata": {},
   "outputs": [],
   "source": [
    "forestry.columns"
   ]
  },
  {
   "cell_type": "code",
   "execution_count": null,
   "id": "330d9174",
   "metadata": {},
   "outputs": [],
   "source": [
    "forestry.columns = ['st', 'percent_forest_2016']\n",
    "forestry"
   ]
  },
  {
   "cell_type": "code",
   "execution_count": null,
   "id": "387837d1",
   "metadata": {},
   "outputs": [],
   "source": [
    "merged = tornadoes.merge(forestry, on = 'st', how='inner')\n",
    "merged"
   ]
  },
  {
   "cell_type": "code",
   "execution_count": null,
   "id": "04ffd5f5",
   "metadata": {},
   "outputs": [],
   "source": []
  }
 ],
 "metadata": {
  "kernelspec": {
   "display_name": "Python 3 (ipykernel)",
   "language": "python",
   "name": "python3"
  },
  "language_info": {
   "codemirror_mode": {
    "name": "ipython",
    "version": 3
   },
   "file_extension": ".py",
   "mimetype": "text/x-python",
   "name": "python",
   "nbconvert_exporter": "python",
   "pygments_lexer": "ipython3",
   "version": "3.10.9"
  }
 },
 "nbformat": 4,
 "nbformat_minor": 5
}
