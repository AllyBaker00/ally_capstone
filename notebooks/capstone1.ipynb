{
 "cells": [
  {
   "cell_type": "code",
   "execution_count": null,
   "id": "96b06925",
   "metadata": {},
   "outputs": [],
   "source": [
    "import pandas as pd\n",
    "import matplotlib as plt\n",
    "import seaborn as sns"
   ]
  },
  {
   "cell_type": "code",
   "execution_count": null,
   "id": "bbda080d",
   "metadata": {},
   "outputs": [],
   "source": [
    "tornadoes = pd.read_csv('../data/1950-2022_all_tornadoes.csv')\n",
    "pd.set_option('display.max_columns', None)"
   ]
  },
  {
   "cell_type": "code",
   "execution_count": null,
   "id": "423ff77a",
   "metadata": {},
   "outputs": [],
   "source": [
    "tornadoes.head()"
   ]
  },
  {
   "cell_type": "code",
   "execution_count": null,
   "id": "0c1ad610",
   "metadata": {},
   "outputs": [],
   "source": [
    "#drop columns: stn, closs, om, \n",
    "tornadoes = tornadoes.drop(columns = ['stn', 'closs', 'om'])\n",
    "tornadoes.head(1)"
   ]
  },
  {
   "cell_type": "code",
   "execution_count": null,
   "id": "91841d5e",
   "metadata": {},
   "outputs": [],
   "source": [
    "tornadoes.dtypes"
   ]
  },
  {
   "cell_type": "code",
   "execution_count": null,
   "id": "767ba7c0",
   "metadata": {
    "scrolled": true
   },
   "outputs": [],
   "source": [
    "tornadoes['date'] = pd.to_datetime(tornadoes['date'])\n",
    "tornadoes.head()"
   ]
  },
  {
   "cell_type": "markdown",
   "id": "d34445db",
   "metadata": {},
   "source": [
    "decades = tornadoes[(tornadoes['yr'] == 1950) | (tornadoes['yr'] == 1960) | (tornadoes['yr'] == 1970)|\n",
    "                   (tornadoes['yr'] == 1980) | (tornadoes['yr'] == 1990) | (tornadoes['yr'] == 2000) |\n",
    "                   (tornadoes['yr'] == 2010) | (tornadoes ['yr'] == 2020)]\n"
   ]
  },
  {
   "cell_type": "code",
   "execution_count": null,
   "id": "71c13c72",
   "metadata": {},
   "outputs": [],
   "source": [
    "fifties = tornadoes[tornadoes['yr'].between(1950, 1959)]\n",
    "fifties.head()"
   ]
  },
  {
   "cell_type": "code",
   "execution_count": null,
   "id": "ccc54b13",
   "metadata": {},
   "outputs": [],
   "source": [
    "sixties = tornadoes[tornadoes['yr'].between(1960, 1969)]"
   ]
  },
  {
   "cell_type": "code",
   "execution_count": null,
   "id": "c543b64c",
   "metadata": {},
   "outputs": [],
   "source": [
    "seventies = tornadoes[tornadoes['yr'].between(1970, 1979)]"
   ]
  },
  {
   "cell_type": "code",
   "execution_count": null,
   "id": "f3628e15",
   "metadata": {},
   "outputs": [],
   "source": [
    "eighties = tornadoes[tornadoes['yr'].between(1980, 1989)]"
   ]
  },
  {
   "cell_type": "code",
   "execution_count": null,
   "id": "bf300ebf",
   "metadata": {},
   "outputs": [],
   "source": [
    "nineties = tornadoes[tornadoes['yr'].between(1990, 1999)]"
   ]
  },
  {
   "cell_type": "code",
   "execution_count": null,
   "id": "fc7b50ef",
   "metadata": {},
   "outputs": [],
   "source": [
    "thousands = tornadoes[tornadoes['yr'].between(2000, 2009)]"
   ]
  },
  {
   "cell_type": "code",
   "execution_count": null,
   "id": "7850bdae",
   "metadata": {},
   "outputs": [],
   "source": [
    "tens = tornadoes[tornadoes['yr'].between(2010, 2019)]"
   ]
  },
  {
   "cell_type": "code",
   "execution_count": null,
   "id": "30c5cc79",
   "metadata": {},
   "outputs": [],
   "source": [
    "most_tornadoes = tornadoes.st.value_counts().to_frame().reset_index().head(10)\n",
    "most_tornadoes"
   ]
  },
  {
   "cell_type": "code",
   "execution_count": null,
   "id": "77e39c17",
   "metadata": {},
   "outputs": [],
   "source": [
    "most_injuries = tornadoes['inj'].groupby(tornadoes['st']).value_counts().nlargest(10)\n",
    "most_injuries"
   ]
  },
  {
   "cell_type": "code",
   "execution_count": null,
   "id": "da9797b1",
   "metadata": {},
   "outputs": [],
   "source": [
    "most_fatalities = tornadoes['fat'].groupby(tornadoes['st']).value_counts().nlargest(10)\n",
    "most_fatalities\n"
   ]
  },
  {
   "cell_type": "markdown",
   "id": "6f8c5f9b",
   "metadata": {},
   "source": [
    "#count number of scale categories for each state\n",
    "tornadoes['mag'].groupby(tornadoes['st']).value_counts().\n",
    "\n",
    "groupby and max?"
   ]
  },
  {
   "cell_type": "code",
   "execution_count": null,
   "id": "9752411c",
   "metadata": {},
   "outputs": [],
   "source": [
    "mag_and_state = tornadoes.groupby('st')['mag']"
   ]
  },
  {
   "cell_type": "code",
   "execution_count": null,
   "id": "bccf3b4d",
   "metadata": {},
   "outputs": [],
   "source": [
    "#magnitude by decades \n",
    "\n",
    "fifties.groupby(['st', 'mag'])['mag'].count()"
   ]
  },
  {
   "cell_type": "markdown",
   "id": "93087eec",
   "metadata": {},
   "source": [
    "find avergage mag by state? -overall and - by decade"
   ]
  },
  {
   "cell_type": "code",
   "execution_count": null,
   "id": "9a56814e",
   "metadata": {},
   "outputs": [],
   "source": [
    "avg_mag_st = tornadoes.groupby(['st', 'mag'])['mag'].mean()\n",
    "avg_mag_st"
   ]
  },
  {
   "cell_type": "markdown",
   "id": "2d63e759",
   "metadata": {},
   "source": [
    "top 10 by decade"
   ]
  },
  {
   "cell_type": "code",
   "execution_count": null,
   "id": "398912ad",
   "metadata": {},
   "outputs": [],
   "source": [
    "most_tornadoes_1950 = fifties.st.value_counts().to_frame().reset_index().head(10)\n"
   ]
  },
  {
   "cell_type": "code",
   "execution_count": null,
   "id": "6f2886bf",
   "metadata": {},
   "outputs": [],
   "source": [
    "most_tornadoes_1960 = sixties.st.value_counts().to_frame().reset_index().head(10)"
   ]
  },
  {
   "cell_type": "code",
   "execution_count": null,
   "id": "32998793",
   "metadata": {},
   "outputs": [],
   "source": [
    "most_tornadoes_1970 = seventies.st.value_counts().to_frame().reset_index().head(10)"
   ]
  },
  {
   "cell_type": "code",
   "execution_count": null,
   "id": "643e4a1c",
   "metadata": {},
   "outputs": [],
   "source": [
    "most_tornadoes_1980 = eighties.st.value_counts().to_frame().reset_index().head(10)"
   ]
  },
  {
   "cell_type": "code",
   "execution_count": null,
   "id": "08064598",
   "metadata": {},
   "outputs": [],
   "source": [
    "most_tornadoes_1990 = nineties.st.value_counts().to_frame().reset_index().head(10)"
   ]
  },
  {
   "cell_type": "code",
   "execution_count": null,
   "id": "25870752",
   "metadata": {},
   "outputs": [],
   "source": [
    "most_tornadoes_2000 = thousands.st.value_counts().to_frame().reset_index().head(10)"
   ]
  },
  {
   "cell_type": "code",
   "execution_count": null,
   "id": "6296a2bd",
   "metadata": {},
   "outputs": [],
   "source": [
    "most_tornadoes_2010 = tens.st.value_counts().to_frame().reset_index().head(10)"
   ]
  },
  {
   "cell_type": "code",
   "execution_count": null,
   "id": "2237ea40",
   "metadata": {},
   "outputs": [],
   "source": [
    "most_injuries_1960 = fifties['inj'].groupby(fifties['st']).value_counts().nlargest(10)"
   ]
  },
  {
   "cell_type": "code",
   "execution_count": null,
   "id": "492c19fa",
   "metadata": {},
   "outputs": [],
   "source": [
    "most_injuries_1970 = fifties['inj'].groupby(fifties['st']).value_counts().nlargest(10)"
   ]
  },
  {
   "cell_type": "code",
   "execution_count": null,
   "id": "6d4715d6",
   "metadata": {},
   "outputs": [],
   "source": [
    "most_injuries_1980 = fifties['inj'].groupby(fifties['st']).value_counts().nlargest(10)"
   ]
  },
  {
   "cell_type": "code",
   "execution_count": null,
   "id": "1f450120",
   "metadata": {},
   "outputs": [],
   "source": [
    "most_injuries_1990 = fifties['inj'].groupby(fifties['st']).value_counts().nlargest(10)"
   ]
  },
  {
   "cell_type": "code",
   "execution_count": null,
   "id": "eaece366",
   "metadata": {},
   "outputs": [],
   "source": [
    "most_injuries_2000 = fifties['inj'].groupby(fifties['st']).value_counts().nlargest(10)"
   ]
  },
  {
   "cell_type": "code",
   "execution_count": null,
   "id": "60b4c118",
   "metadata": {},
   "outputs": [],
   "source": [
    "most_injuries_2010 = fifties['inj'].groupby(fifties['st']).value_counts().nlargest(10)"
   ]
  },
  {
   "cell_type": "markdown",
   "id": "0316403d",
   "metadata": {},
   "source": [
    "merge forestry database \n",
    "- drop unnamed and rank\n",
    "rename percent forest\n",
    "rename sdt to st"
   ]
  },
  {
   "cell_type": "code",
   "execution_count": null,
   "id": "a0e659d9",
   "metadata": {
    "scrolled": true
   },
   "outputs": [],
   "source": [
    "forestry = pd.read_csv('../data/state_foresty.csv')\n",
    "forestry"
   ]
  },
  {
   "cell_type": "code",
   "execution_count": null,
   "id": "142ecdd6",
   "metadata": {},
   "outputs": [],
   "source": [
    "forestry.head(1)"
   ]
  },
  {
   "cell_type": "code",
   "execution_count": null,
   "id": "ed1e9537",
   "metadata": {},
   "outputs": [],
   "source": [
    "forestry = forestry.drop(columns = ['Unnamed: 0', 'Rank'])\n",
    "forestry.head(1)"
   ]
  },
  {
   "cell_type": "code",
   "execution_count": null,
   "id": "aba0c58e",
   "metadata": {},
   "outputs": [],
   "source": [
    "forestry.columns"
   ]
  },
  {
   "cell_type": "code",
   "execution_count": null,
   "id": "330d9174",
   "metadata": {},
   "outputs": [],
   "source": [
    "forestry.columns = ['st', 'percent_forest_2016']\n"
   ]
  },
  {
   "cell_type": "code",
   "execution_count": null,
   "id": "387837d1",
   "metadata": {},
   "outputs": [],
   "source": [
    "merged = tornadoes.merge(forestry, on = 'st', how='inner')\n"
   ]
  },
  {
   "cell_type": "markdown",
   "id": "962d28b6",
   "metadata": {},
   "source": [
    "import square mileage spreadsheet"
   ]
  },
  {
   "cell_type": "code",
   "execution_count": null,
   "id": "07e9e422",
   "metadata": {},
   "outputs": [],
   "source": [
    "sq_miles = pd.read_csv('../data/state_size.csv')\n",
    "sq_miles.head()"
   ]
  },
  {
   "cell_type": "code",
   "execution_count": null,
   "id": "62edab5b",
   "metadata": {},
   "outputs": [],
   "source": [
    "sq_miles = sq_miles.drop(columns = ['Unnamed: 0', 'Rank', 'km²','Rank.1','sq mi.1','km².1', '% land','Rank.2','sq mi.2','km².2','% water'])\n",
    "sq_miles.head(1)"
   ]
  },
  {
   "cell_type": "code",
   "execution_count": null,
   "id": "2ba19ebe",
   "metadata": {},
   "outputs": [],
   "source": [
    "sq_miles.columns = ['st', 'st_sq_miles']"
   ]
  },
  {
   "cell_type": "code",
   "execution_count": null,
   "id": "cce75f5c",
   "metadata": {
    "scrolled": true
   },
   "outputs": [],
   "source": [
    "merge2 = merged.merge(sq_miles, on = 'st', how='inner')\n",
    "merge2"
   ]
  },
  {
   "cell_type": "code",
   "execution_count": null,
   "id": "afd564b4",
   "metadata": {},
   "outputs": [],
   "source": [
    "merge2.head(1)"
   ]
  },
  {
   "cell_type": "code",
   "execution_count": null,
   "id": "0cf15ca1",
   "metadata": {},
   "outputs": [],
   "source": [
    "merge2.to_csv('../data/primary_data.csv')"
   ]
  },
  {
   "cell_type": "code",
   "execution_count": null,
   "id": "81a7c375",
   "metadata": {},
   "outputs": [],
   "source": [
    "merge2.dtypes"
   ]
  },
  {
   "cell_type": "markdown",
   "id": "5c577f18",
   "metadata": {},
   "source": [
    "# MVP"
   ]
  },
  {
   "cell_type": "code",
   "execution_count": null,
   "id": "9dbceec7",
   "metadata": {},
   "outputs": [],
   "source": [
    "#average number of tornadoes per decade\n",
    "avg_per_state_50s = fifties.value_counts('st')/10\n",
    "avg_per_state_50s.to_frame().head(10)"
   ]
  },
  {
   "cell_type": "markdown",
   "id": "7de391b8",
   "metadata": {},
   "source": [
    "# which state has the most tornadoes per sq. mile?\n",
    "\n",
    "# total tornadoes in state / sq. mile"
   ]
  },
  {
   "cell_type": "code",
   "execution_count": null,
   "id": "7d3c51f1",
   "metadata": {},
   "outputs": [],
   "source": [
    "total_tornadoes_by_state = merge2.value_counts('st').to_frame()\n"
   ]
  },
  {
   "cell_type": "code",
   "execution_count": null,
   "id": "8e4e02f8",
   "metadata": {
    "scrolled": true
   },
   "outputs": [],
   "source": [
    "per_sq_mile = merge2.groupby('st')['st_sq_miles'].max()/merge2.groupby('st')['yr'].count()"
   ]
  },
  {
   "cell_type": "code",
   "execution_count": null,
   "id": "1d36ffaa",
   "metadata": {},
   "outputs": [],
   "source": [
    "per_sq_mile = per_sq_mile.to_frame()"
   ]
  },
  {
   "cell_type": "code",
   "execution_count": null,
   "id": "1f05d2b3",
   "metadata": {},
   "outputs": [],
   "source": [
    "per_sq_mile.columns"
   ]
  },
  {
   "cell_type": "code",
   "execution_count": null,
   "id": "3af04122",
   "metadata": {
    "scrolled": true
   },
   "outputs": [],
   "source": [
    "#plot this \n",
    "per_sq_mile = per_sq_mile.sort_values(0)"
   ]
  },
  {
   "cell_type": "code",
   "execution_count": null,
   "id": "132b8ba3",
   "metadata": {},
   "outputs": [],
   "source": [
    "per_sq_mile = per_sq_mile.reset_index()"
   ]
  },
  {
   "cell_type": "code",
   "execution_count": null,
   "id": "b54101b3",
   "metadata": {},
   "outputs": [],
   "source": [
    "per_sq_mile.columns = ['st', 'miles']"
   ]
  },
  {
   "cell_type": "code",
   "execution_count": null,
   "id": "da2fa0c8",
   "metadata": {},
   "outputs": [],
   "source": [
    "per_sq_mile.to_csv('../data/per_sq_mile.csv')"
   ]
  },
  {
   "cell_type": "code",
   "execution_count": null,
   "id": "d3b1db1c",
   "metadata": {},
   "outputs": [],
   "source": [
    "per_sq_mile.plot(kind = 'bar', x = 'st', y='miles', \n",
    "                   figsize = (8,4))\n",
    "\n",
    "plt.xticks(rotation = 0,                                             \n",
    "           fontsize = 12)                   \n",
    "plt.title('Most Tornadoes per Sq. Mile',                             \n",
    "         fontsize = 14,\n",
    "         fontweight = 'bold');"
   ]
  },
  {
   "cell_type": "markdown",
   "id": "8257e3e9",
   "metadata": {},
   "source": [
    "#  Does time of day affect fatalities and injuries?"
   ]
  },
  {
   "cell_type": "code",
   "execution_count": null,
   "id": "c1c4440d",
   "metadata": {},
   "outputs": [],
   "source": [
    "#df['col'] = df['col'].astype('datetime64')\n",
    "merge2['time'] = pd.to_datetime(merge2['time'], format= '%H:%M').dt.hour"
   ]
  },
  {
   "cell_type": "code",
   "execution_count": null,
   "id": "1e534531",
   "metadata": {},
   "outputs": [],
   "source": [
    "merge2"
   ]
  },
  {
   "cell_type": "code",
   "execution_count": null,
   "id": "a29b0fb3",
   "metadata": {},
   "outputs": [],
   "source": [
    "## average time of day by state. wait, that doesnt work bc 2 is nighttime but so is 22\n",
    "merge2.groupby('st')['time'].mean()"
   ]
  },
  {
   "cell_type": "code",
   "execution_count": null,
   "id": "77bbebc4",
   "metadata": {},
   "outputs": [],
   "source": [
    "merge2.dtypes\n"
   ]
  },
  {
   "cell_type": "code",
   "execution_count": null,
   "id": "58ad8cfb",
   "metadata": {},
   "outputs": [],
   "source": [
    "#create a column 'day or night'\n",
    "\n",
    "\n",
    "merge2.loc[(merge2['time'] >= 5) & (merge2['time'] <= 16), 'day_or_night'] = 'day'\n",
    "merge2.loc[(merge2['time'] < 5), 'day_or_night'] = 'night'\n",
    "merge2.loc[(merge2['time'] > 16), 'day_or_night'] = 'night'\n",
    "merge2.head()"
   ]
  },
  {
   "cell_type": "code",
   "execution_count": null,
   "id": "a0b9197e",
   "metadata": {},
   "outputs": [],
   "source": []
  }
 ],
 "metadata": {
  "kernelspec": {
   "display_name": "Python 3 (ipykernel)",
   "language": "python",
   "name": "python3"
  },
  "language_info": {
   "codemirror_mode": {
    "name": "ipython",
    "version": 3
   },
   "file_extension": ".py",
   "mimetype": "text/x-python",
   "name": "python",
   "nbconvert_exporter": "python",
   "pygments_lexer": "ipython3",
   "version": "3.10.9"
  }
 },
 "nbformat": 4,
 "nbformat_minor": 5
}
