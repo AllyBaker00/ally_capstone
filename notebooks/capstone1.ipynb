{
 "cells": [
  {
   "cell_type": "code",
   "execution_count": null,
   "id": "f46ae546",
   "metadata": {},
   "outputs": [],
   "source": [
    "import pandas as pd"
   ]
  },
  {
   "cell_type": "code",
   "execution_count": null,
   "id": "befbcfd3",
   "metadata": {},
   "outputs": [],
   "source": [
    "tornadoes = pd.read_csv('../data/1950-2022_all_tornadoes.csv')\n",
    "pd.set_option('display.max_columns', None)"
   ]
  },
  {
   "cell_type": "code",
   "execution_count": null,
   "id": "f145d54f",
   "metadata": {},
   "outputs": [],
   "source": [
    "tornadoes.head()"
   ]
  },
  {
   "cell_type": "code",
   "execution_count": null,
   "id": "9da7755a",
   "metadata": {},
   "outputs": [],
   "source": [
    "#drop columns: stn, closs, om, \n",
    "tornadoes.drop(columns = ['stn', 'closs', 'om'])\n",
    "tornadoes.head(1)"
   ]
  },
  {
   "cell_type": "code",
   "execution_count": null,
   "id": "98459c59",
   "metadata": {},
   "outputs": [],
   "source": [
    "tornadoes.dtypes"
   ]
  },
  {
   "cell_type": "code",
   "execution_count": null,
   "id": "e102da9f",
   "metadata": {
    "scrolled": true
   },
   "outputs": [],
   "source": [
    "tornadoes['date'] = pd.to_datetime(tornadoes['date'])\n",
    "tornadoes.head()"
   ]
  },
  {
   "cell_type": "markdown",
   "id": "b94b4b47",
   "metadata": {},
   "source": [
    "decades = tornadoes[(tornadoes['yr'] == 1950) | (tornadoes['yr'] == 1960) | (tornadoes['yr'] == 1970)|\n",
    "                   (tornadoes['yr'] == 1980) | (tornadoes['yr'] == 1990) | (tornadoes['yr'] == 2000) |\n",
    "                   (tornadoes['yr'] == 2010) | (tornadoes ['yr'] == 2020)]\n"
   ]
  },
  {
   "cell_type": "code",
   "execution_count": null,
   "id": "e2ad6f7d",
   "metadata": {},
   "outputs": [],
   "source": [
    "fifties = tornadoes[tornadoes['yr'].between(1950, 1959)]\n",
    "fifties.head()"
   ]
  },
  {
   "cell_type": "code",
   "execution_count": null,
   "id": "6d75e9b1",
   "metadata": {},
   "outputs": [],
   "source": [
    "sixties = tornadoes[tornadoes['yr'].between(1960, 1969)]"
   ]
  },
  {
   "cell_type": "code",
   "execution_count": null,
   "id": "9857a504",
   "metadata": {},
   "outputs": [],
   "source": [
    "seventies = tornadoes[tornadoes['yr'].between(1970, 1979)]"
   ]
  },
  {
   "cell_type": "code",
   "execution_count": null,
   "id": "61a3ce51",
   "metadata": {},
   "outputs": [],
   "source": [
    "eighties = tornadoes[tornadoes['yr'].between(1980, 1989)]"
   ]
  },
  {
   "cell_type": "code",
   "execution_count": null,
   "id": "8e2f71f2",
   "metadata": {},
   "outputs": [],
   "source": [
    "nineties = tornadoes[tornadoes['yr'].between(1990, 1999)]"
   ]
  },
  {
   "cell_type": "code",
   "execution_count": null,
   "id": "b1acd418",
   "metadata": {},
   "outputs": [],
   "source": [
    "thousands = tornadoes[tornadoes['yr'].between(2000, 2009)]"
   ]
  },
  {
   "cell_type": "code",
   "execution_count": null,
   "id": "b0e666e7",
   "metadata": {},
   "outputs": [],
   "source": [
    "tens = tornadoes[tornadoes['yr'].between(2010, 2019)]"
   ]
  },
  {
   "cell_type": "code",
   "execution_count": null,
   "id": "d9853f45",
   "metadata": {},
   "outputs": [],
   "source": [
    "most_tornadoes = tornadoes.st.value_counts().to_frame().reset_index().head(10)\n",
    "most_tornadoes"
   ]
  },
  {
   "cell_type": "code",
   "execution_count": null,
   "id": "4362d5c0",
   "metadata": {},
   "outputs": [],
   "source": [
    "most_injuries = tornadoes['inj'].groupby(tornadoes['st']).value_counts().nlargest(10)\n",
    "most_injuries"
   ]
  },
  {
   "cell_type": "code",
   "execution_count": null,
   "id": "f7765814",
   "metadata": {},
   "outputs": [],
   "source": [
    "most_fatalities = tornadoes['fat'].groupby(tornadoes['st']).value_counts().nlargest(10)\n",
    "most_fatalities\n"
   ]
  },
  {
   "cell_type": "markdown",
   "id": "a06e1a96",
   "metadata": {},
   "source": [
    "#count number of scale categories for each state\n",
    "tornadoes['mag'].groupby(tornadoes['st']).value_counts()."
   ]
  },
  {
   "cell_type": "code",
   "execution_count": null,
   "id": "4d715605",
   "metadata": {},
   "outputs": [],
   "source": [
    "mag_and_state = tornadoes[['st', 'mag']]"
   ]
  },
  {
   "cell_type": "code",
   "execution_count": null,
   "id": "b9e3da7c",
   "metadata": {},
   "outputs": [],
   "source": [
    "#magnitude by decades \n",
    "\n",
    "fifties.groupby(['st', 'mag'])['mag'].count()"
   ]
  },
  {
   "cell_type": "code",
   "execution_count": null,
   "id": "31f32a59",
   "metadata": {},
   "outputs": [],
   "source": []
  },
  {
   "cell_type": "code",
   "execution_count": null,
   "id": "355a2328",
   "metadata": {},
   "outputs": [],
   "source": []
  },
  {
   "cell_type": "markdown",
   "id": "53ae5ebb",
   "metadata": {},
   "source": [
    "top 10 by decade"
   ]
  },
  {
   "cell_type": "code",
   "execution_count": null,
   "id": "94ad2af0",
   "metadata": {},
   "outputs": [],
   "source": [
    "most_tornadoes_1950 = fifties.st.value_counts().to_frame().reset_index().head(10)\n"
   ]
  },
  {
   "cell_type": "code",
   "execution_count": null,
   "id": "f9669375",
   "metadata": {},
   "outputs": [],
   "source": [
    "most_tornadoes_1960 = sixties.st.value_counts().to_frame().reset_index().head(10)"
   ]
  },
  {
   "cell_type": "code",
   "execution_count": null,
   "id": "3ed381a5",
   "metadata": {},
   "outputs": [],
   "source": [
    "most_tornadoes_1970 = seventies.st.value_counts().to_frame().reset_index().head(10)"
   ]
  },
  {
   "cell_type": "code",
   "execution_count": null,
   "id": "0be55da8",
   "metadata": {},
   "outputs": [],
   "source": [
    "most_tornadoes_1980 = eighties.st.value_counts().to_frame().reset_index().head(10)"
   ]
  },
  {
   "cell_type": "code",
   "execution_count": null,
   "id": "b8cd6e80",
   "metadata": {},
   "outputs": [],
   "source": [
    "most_tornadoes_1990 = nineties.st.value_counts().to_frame().reset_index().head(10)"
   ]
  },
  {
   "cell_type": "code",
   "execution_count": null,
   "id": "ef9f517b",
   "metadata": {},
   "outputs": [],
   "source": [
    "most_tornadoes_2000 = thousands.st.value_counts().to_frame().reset_index().head(10)"
   ]
  },
  {
   "cell_type": "code",
   "execution_count": null,
   "id": "8d9052c6",
   "metadata": {},
   "outputs": [],
   "source": [
    "most_tornadoes_2010 = tens.st.value_counts().to_frame().reset_index().head(10)"
   ]
  },
  {
   "cell_type": "code",
   "execution_count": null,
   "id": "e8e8ec24",
   "metadata": {},
   "outputs": [],
   "source": [
    "most_tornadoes_1950"
   ]
  },
  {
   "cell_type": "code",
   "execution_count": null,
   "id": "cc0ca9e0",
   "metadata": {},
   "outputs": [],
   "source": [
    "most_tornadoes_2010"
   ]
  },
  {
   "cell_type": "code",
   "execution_count": null,
   "id": "8c788a3c",
   "metadata": {},
   "outputs": [],
   "source": []
  }
 ],
 "metadata": {
  "kernelspec": {
   "display_name": "Python 3 (ipykernel)",
   "language": "python",
   "name": "python3"
  },
  "language_info": {
   "codemirror_mode": {
    "name": "ipython",
    "version": 3
   },
   "file_extension": ".py",
   "mimetype": "text/x-python",
   "name": "python",
   "nbconvert_exporter": "python",
   "pygments_lexer": "ipython3",
   "version": "3.10.9"
  }
 },
 "nbformat": 4,
 "nbformat_minor": 5
}
