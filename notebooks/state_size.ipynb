{
 "cells": [
  {
   "cell_type": "code",
   "execution_count": null,
   "id": "2c350897",
   "metadata": {},
   "outputs": [],
   "source": [
    "import requests\n",
    "from bs4 import BeautifulSoup as BS"
   ]
  },
  {
   "cell_type": "code",
   "execution_count": null,
   "id": "e11eb7e8",
   "metadata": {},
   "outputs": [],
   "source": [
    "URL = 'https://simple.wikipedia.org/wiki/List_of_U.S._states_and_territories_by_area'\n",
    "\n",
    "response = requests.get(URL)"
   ]
  },
  {
   "cell_type": "code",
   "execution_count": null,
   "id": "9a262878",
   "metadata": {},
   "outputs": [],
   "source": [
    "response.status_code"
   ]
  },
  {
   "cell_type": "code",
   "execution_count": null,
   "id": "d611770d",
   "metadata": {},
   "outputs": [],
   "source": [
    "soup = BS(response.text)\n",
    "soup"
   ]
  },
  {
   "cell_type": "code",
   "execution_count": null,
   "id": "01e2b02b",
   "metadata": {},
   "outputs": [],
   "source": [
    "print(soup.prettify())"
   ]
  },
  {
   "cell_type": "code",
   "execution_count": null,
   "id": "be5045fd",
   "metadata": {},
   "outputs": [],
   "source": [
    "soup.find('table', attrs = {'class': 'wikitable'}).findAll('td')[0].text"
   ]
  },
  {
   "cell_type": "code",
   "execution_count": null,
   "id": "6d62efdd",
   "metadata": {},
   "outputs": [],
   "source": [
    "td_soup = soup.find('table', attrs = {'class': 'wikitable'}).findAll('td') "
   ]
  },
  {
   "cell_type": "code",
   "execution_count": null,
   "id": "1edb6c31",
   "metadata": {},
   "outputs": [],
   "source": [
    "state_list = []\n",
    "\n",
    "for x in td_soup:\n",
    "    \n",
    "    state_list.append(x.text)"
   ]
  },
  {
   "cell_type": "code",
   "execution_count": null,
   "id": "255245d9",
   "metadata": {},
   "outputs": [],
   "source": [
    "state_list"
   ]
  },
  {
   "cell_type": "code",
   "execution_count": null,
   "id": "a6ebd3e3",
   "metadata": {},
   "outputs": [],
   "source": [
    "soup.find('table', attrs={'class' : 'wikitable'})"
   ]
  },
  {
   "cell_type": "code",
   "execution_count": null,
   "id": "4f78023d",
   "metadata": {},
   "outputs": [],
   "source": [
    "table_html = str(soup.find('table', attrs={'class' : 'wikitable'}))\n",
    "\n",
    "from IPython.core.display import HTML\n",
    "\n",
    "HTML(table_html)"
   ]
  },
  {
   "cell_type": "code",
   "execution_count": null,
   "id": "2825ccec",
   "metadata": {},
   "outputs": [],
   "source": [
    "import pandas as pd"
   ]
  },
  {
   "cell_type": "code",
   "execution_count": null,
   "id": "41acab41",
   "metadata": {
    "scrolled": true
   },
   "outputs": [],
   "source": [
    "new_frame = pd.read_html(str(soup.find('table', attrs={'class' : 'wikitable'})))[0]\n",
    "new_frame.head(2)"
   ]
  },
  {
   "cell_type": "code",
   "execution_count": null,
   "id": "02055822",
   "metadata": {},
   "outputs": [],
   "source": [
    "new_frame = new_frame.droplevel(0, axis = 1)\n",
    "new_frame"
   ]
  },
  {
   "cell_type": "code",
   "execution_count": null,
   "id": "cfe8a2f1",
   "metadata": {},
   "outputs": [],
   "source": [
    "#change to abbr\n",
    "\n",
    "state = {\n",
    "'Alabama': 'AL', 'Alaska': 'AK', 'Arizona': 'AZ', 'Arkansas': 'AR', 'California': 'CA', 'Colorado': 'CO',\n",
    "'Connecticut': 'CT', 'Delaware': 'DE', 'Florida': 'FL', 'Georgia': 'GA', 'Hawaii': 'HI', 'Idaho': 'ID',\n",
    "'Illinois': 'IL', 'Indiana': 'IN', 'Iowa': 'IA', 'Kansas': 'KS', 'Kentucky': 'KY', 'Louisiana': 'LA',\n",
    "'Maine': 'ME', 'Maryland': 'MD', 'Massachusetts': 'MA', 'Michigan': 'MI', 'Minnesota': 'MN', 'Mississippi': 'MS',\n",
    "'Missouri': 'MO', 'Montana': 'MT', 'Nebraska': 'NE', 'Nevada': 'NV', 'New Hampshire': 'NH', 'New Jersey': 'NJ',\n",
    "'New Mexico': 'NM', 'New York': 'NY', 'North Carolina': 'NC', 'North Dakota': 'ND', 'Ohio': 'OH', 'Oklahoma': 'OK',\n",
    "'Oregon': 'OR', 'Pennsylvania': 'PA', 'Puerto Rico': 'PR', 'Rhode Island': 'RI', 'South Carolina': 'SC', 'South Dakota': 'SD',\n",
    "'Tennessee': 'TN', 'Texas': 'TX', 'Utah': 'UT', 'Vermont': 'VT', 'Virgin Islands': 'VI', 'Virginia': 'VA', 'Washington': 'WA',\n",
    "'West Virginia': 'WV', 'Wisconsin': 'WI', 'Wyoming': 'WY'}\n"
   ]
  },
  {
   "cell_type": "code",
   "execution_count": null,
   "id": "25d6bde6",
   "metadata": {},
   "outputs": [],
   "source": [
    "new_frame['State federal district  or territory'] = new_frame['State federal district  or territory'].map(state) #.fillna(df['State'])\n",
    "new_frame"
   ]
  },
  {
   "cell_type": "code",
   "execution_count": null,
   "id": "fe54320d",
   "metadata": {},
   "outputs": [],
   "source": [
    "new_frame.to_csv('../data/state_size.csv')"
   ]
  },
  {
   "cell_type": "code",
   "execution_count": null,
   "id": "f2d0567f",
   "metadata": {},
   "outputs": [],
   "source": []
  }
 ],
 "metadata": {
  "kernelspec": {
   "display_name": "Python 3 (ipykernel)",
   "language": "python",
   "name": "python3"
  },
  "language_info": {
   "codemirror_mode": {
    "name": "ipython",
    "version": 3
   },
   "file_extension": ".py",
   "mimetype": "text/x-python",
   "name": "python",
   "nbconvert_exporter": "python",
   "pygments_lexer": "ipython3",
   "version": "3.10.9"
  }
 },
 "nbformat": 4,
 "nbformat_minor": 5
}
