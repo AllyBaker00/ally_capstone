{
 "cells": [
  {
   "cell_type": "code",
   "execution_count": null,
   "id": "2ac5c3a3",
   "metadata": {},
   "outputs": [],
   "source": [
    "import requests\n",
    "from bs4 import BeautifulSoup as BS"
   ]
  },
  {
   "cell_type": "code",
   "execution_count": null,
   "id": "6b2ea8b4",
   "metadata": {},
   "outputs": [],
   "source": [
    "URL = 'https://en.wikipedia.org/wiki/Forest_cover_by_state_and_territory_in_the_United_States'\n",
    "\n",
    "response = requests.get(URL)"
   ]
  },
  {
   "cell_type": "code",
   "execution_count": null,
   "id": "5e459132",
   "metadata": {},
   "outputs": [],
   "source": [
    "type(response)"
   ]
  },
  {
   "cell_type": "code",
   "execution_count": null,
   "id": "985c4014",
   "metadata": {},
   "outputs": [],
   "source": [
    "response.status_code"
   ]
  },
  {
   "cell_type": "code",
   "execution_count": null,
   "id": "d9ec2577",
   "metadata": {},
   "outputs": [],
   "source": [
    "response.text"
   ]
  },
  {
   "cell_type": "code",
   "execution_count": null,
   "id": "e3b5cdf0",
   "metadata": {},
   "outputs": [],
   "source": [
    "soup = BS(response.text)\n",
    "soup"
   ]
  },
  {
   "cell_type": "code",
   "execution_count": null,
   "id": "af202ac3",
   "metadata": {},
   "outputs": [],
   "source": [
    "print(soup.prettify())"
   ]
  },
  {
   "cell_type": "code",
   "execution_count": null,
   "id": "7303a434",
   "metadata": {},
   "outputs": [],
   "source": [
    "soup.find('title')"
   ]
  },
  {
   "cell_type": "code",
   "execution_count": null,
   "id": "2bf9acb0",
   "metadata": {},
   "outputs": [],
   "source": [
    "type(soup.find('title'))"
   ]
  },
  {
   "cell_type": "code",
   "execution_count": null,
   "id": "4c2cc14e",
   "metadata": {},
   "outputs": [],
   "source": [
    "soup.find('table', attrs = {'class': 'wikitable'}).findAll('td')[1].text"
   ]
  },
  {
   "cell_type": "code",
   "execution_count": null,
   "id": "90344c97",
   "metadata": {},
   "outputs": [],
   "source": [
    "td_soup = soup.find('table', attrs = {'class': 'wikitable'}).findAll('td') "
   ]
  },
  {
   "cell_type": "code",
   "execution_count": null,
   "id": "4417a4e8",
   "metadata": {},
   "outputs": [],
   "source": [
    "forestry_list = []\n",
    "\n",
    "for x in td_soup:\n",
    "    \n",
    "    forestry_list.append(x.text)"
   ]
  },
  {
   "cell_type": "code",
   "execution_count": null,
   "id": "1a3f8d25",
   "metadata": {},
   "outputs": [],
   "source": [
    "forestry_list"
   ]
  },
  {
   "cell_type": "code",
   "execution_count": null,
   "id": "19c56d98",
   "metadata": {},
   "outputs": [],
   "source": [
    "soup.find('table', attrs={'class' : 'wikitable'})"
   ]
  },
  {
   "cell_type": "code",
   "execution_count": null,
   "id": "d55e254d",
   "metadata": {},
   "outputs": [],
   "source": [
    "table_html = str(soup.find('table', attrs={'class' : 'wikitable'}))\n",
    "\n",
    "from IPython.core.display import HTML\n",
    "\n",
    "HTML(table_html)"
   ]
  },
  {
   "cell_type": "code",
   "execution_count": null,
   "id": "6f9d30db",
   "metadata": {},
   "outputs": [],
   "source": [
    "import pandas as pd"
   ]
  },
  {
   "cell_type": "code",
   "execution_count": null,
   "id": "1b994f5b",
   "metadata": {},
   "outputs": [],
   "source": [
    "new_frame = pd.read_html(str(soup.find('table', attrs={'class' : 'wikitable'})))[0]"
   ]
  },
  {
   "cell_type": "code",
   "execution_count": null,
   "id": "5674b595",
   "metadata": {},
   "outputs": [],
   "source": [
    "new_frame.head(1)"
   ]
  },
  {
   "cell_type": "code",
   "execution_count": null,
   "id": "142cb5a6",
   "metadata": {
    "scrolled": true
   },
   "outputs": [],
   "source": [
    "new_frame "
   ]
  },
  {
   "cell_type": "code",
   "execution_count": null,
   "id": "b0859b7a",
   "metadata": {},
   "outputs": [],
   "source": [
    "#change the state to abbreviations\n",
    "\n",
    "state = {\n",
    "'Alabama': 'AL', 'Alaska': 'AK', 'Arizona': 'AZ', 'Arkansas': 'AR', 'California': 'CA', 'Colorado': 'CO',\n",
    "'Connecticut': 'CT', 'Delaware': 'DE', 'Florida': 'FL', 'Georgia': 'GA', 'Hawaii': 'HI', 'Idaho': 'ID',\n",
    "'Illinois': 'IL', 'Indiana': 'IN', 'Iowa': 'IA', 'Kansas': 'KS', 'Kentucky': 'KY', 'Louisiana': 'LA',\n",
    "'Maine': 'ME', 'Maryland': 'MD', 'Massachusetts': 'MA', 'Michigan': 'MI', 'Minnesota': 'MN', 'Mississippi': 'MS',\n",
    "'Missouri': 'MO', 'Montana': 'MT', 'Nebraska': 'NE', 'Nevada': 'NV', 'New Hampshire': 'NH', 'New Jersey': 'NJ',\n",
    "'New Mexico': 'NM', 'New York': 'NY', 'North Carolina': 'NC', 'North Dakota': 'ND', 'Ohio': 'OH', 'Oklahoma': 'OK',\n",
    "'Oregon': 'OR', 'Pennsylvania': 'PA', 'Rhode Island': 'RI', 'South Carolina': 'SC', 'South Dakota': 'SD',\n",
    "'Tennessee': 'TN', 'Texas': 'TX', 'Utah': 'UT', 'Vermont': 'VT', 'Virginia': 'VA', 'Washington': 'WA',\n",
    "'West Virginia': 'WV', 'Wisconsin': 'WI', 'Wyoming': 'WY'}"
   ]
  },
  {
   "cell_type": "code",
   "execution_count": null,
   "id": "e0388ef3",
   "metadata": {},
   "outputs": [],
   "source": [
    "new_frame['State, district  or territory'] = new_frame['State, district  or territory'].map(state) #.fillna(df['State'])\n",
    "new_frame"
   ]
  },
  {
   "cell_type": "code",
   "execution_count": null,
   "id": "5dd8bab4",
   "metadata": {},
   "outputs": [],
   "source": [
    "new_frame.columns"
   ]
  },
  {
   "cell_type": "markdown",
   "id": "93403846",
   "metadata": {},
   "source": [
    "To do tomorrow: figure out if you need to abbreviate territories and DC, export new_frame as csv:\n",
    "\n",
    "df.to_csv('new file name, index = False)\n",
    "Then combine new_frame with the tornadoes data to get state forestry percentage. "
   ]
  },
  {
   "cell_type": "code",
   "execution_count": null,
   "id": "9912f6f5",
   "metadata": {},
   "outputs": [],
   "source": []
  }
 ],
 "metadata": {
  "kernelspec": {
   "display_name": "Python 3 (ipykernel)",
   "language": "python",
   "name": "python3"
  },
  "language_info": {
   "codemirror_mode": {
    "name": "ipython",
    "version": 3
   },
   "file_extension": ".py",
   "mimetype": "text/x-python",
   "name": "python",
   "nbconvert_exporter": "python",
   "pygments_lexer": "ipython3",
   "version": "3.10.9"
  }
 },
 "nbformat": 4,
 "nbformat_minor": 5
}
