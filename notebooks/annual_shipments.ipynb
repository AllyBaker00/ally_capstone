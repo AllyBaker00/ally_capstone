{
 "cells": [
  {
   "cell_type": "code",
   "execution_count": null,
   "id": "47b6f8aa",
   "metadata": {},
   "outputs": [],
   "source": [
    "import pandas as pd"
   ]
  },
  {
   "cell_type": "code",
   "execution_count": null,
   "id": "a3a6a8a4",
   "metadata": {},
   "outputs": [],
   "source": [
    "state_shipments = pd.read_excel('../data/annual_shipmentstostates.xlsx')"
   ]
  },
  {
   "cell_type": "code",
   "execution_count": null,
   "id": "1c42c54a",
   "metadata": {},
   "outputs": [],
   "source": [
    "state_shipments.head(5)"
   ]
  },
  {
   "cell_type": "code",
   "execution_count": null,
   "id": "618f7891",
   "metadata": {},
   "outputs": [],
   "source": [
    "state_shipments = state_shipments.iloc[3:]\n"
   ]
  },
  {
   "cell_type": "code",
   "execution_count": null,
   "id": "2a25c17e",
   "metadata": {
    "scrolled": true
   },
   "outputs": [],
   "source": [
    "state_shipments"
   ]
  },
  {
   "cell_type": "markdown",
   "id": "77dc06b9",
   "metadata": {},
   "source": [
    "#drop columns 55-61 CHECK\n",
    "#convert floats into integers "
   ]
  },
  {
   "cell_type": "code",
   "execution_count": null,
   "id": "b38ed237",
   "metadata": {},
   "outputs": [],
   "source": [
    "state_shipments = state_shipments[:-7]\n",
    "state_shipments"
   ]
  },
  {
   "cell_type": "markdown",
   "id": "4b198e2a",
   "metadata": {},
   "source": [
    "df = df.astype({'col1': 'object', 'col2': 'int'})"
   ]
  },
  {
   "cell_type": "code",
   "execution_count": null,
   "id": "1564b2e3",
   "metadata": {},
   "outputs": [],
   "source": [
    "state_shipments = state_shipments.astype({'Unnamed: 1':'int', 'Unnamed: 2': 'int', 'Unnamed: 3': 'int',\n",
    "       'Unnamed: 4': 'int', 'Unnamed: 5': 'int', 'Unnamed: 6': 'int', 'Unnamed: 7': 'int', 'Unnamed: 8': 'int',\n",
    "       'Unnamed: 9': 'int', 'Unnamed: 10': 'int', 'Unnamed: 11': 'int', 'Unnamed: 12': 'int',\n",
    "       'Unnamed: 13': 'int', 'Unnamed: 14': 'int', 'Unnamed: 15': 'int', 'Unnamed: 16': 'int',\n",
    "       'Unnamed: 17': 'int', 'Unnamed: 18': 'int', 'Unnamed: 19': 'int', 'Unnamed: 20': 'int',\n",
    "       'Unnamed: 21': 'int', 'Unnamed: 22': 'int', 'Unnamed: 23': 'int', 'Unnamed: 24': 'int',\n",
    "       'Unnamed: 25': 'int', 'Unnamed: 26': 'int', 'Unnamed: 27': 'int', 'Unnamed: 28': 'int',\n",
    "       'Unnamed: 29': 'int', 'Unnamed: 30': 'int'})"
   ]
  },
  {
   "cell_type": "markdown",
   "id": "405ebd6a",
   "metadata": {},
   "source": [
    "new_header = df.iloc[0] #grab the first row for the header\n",
    "df = df[1:] #take the data less the header row\n",
    "df.columns = new_header #set the header row as the df header"
   ]
  },
  {
   "cell_type": "code",
   "execution_count": null,
   "id": "14ad6ff8",
   "metadata": {},
   "outputs": [],
   "source": [
    "new_header = state_shipments.iloc[0]\n",
    "state_shipments = state_shipments[1:]\n",
    "state_shipments.columns = new_header"
   ]
  },
  {
   "cell_type": "code",
   "execution_count": null,
   "id": "b4233b3f",
   "metadata": {
    "scrolled": true
   },
   "outputs": [],
   "source": [
    "state_shipments"
   ]
  },
  {
   "cell_type": "code",
   "execution_count": null,
   "id": "39e2fefc",
   "metadata": {},
   "outputs": [],
   "source": [
    "#pull out 16 states we're looking at \n",
    "#make them abbreviations for consistency \n",
    "\n",
    "state = {\n",
    "'Alabama': 'AL', 'Alaska': 'AK', 'Arizona': 'AZ', 'Arkansas': 'AR', 'California': 'CA', 'Colorado': 'CO',\n",
    "'Connecticut': 'CT', 'Delaware': 'DE', 'Florida': 'FL', 'Georgia': 'GA', 'Hawaii': 'HI', 'Idaho': 'ID',\n",
    "'Illinois': 'IL', 'Indiana': 'IN', 'Iowa': 'IA', 'Kansas': 'KS', 'Kentucky': 'KY', 'Louisiana': 'LA',\n",
    "'Maine': 'ME', 'Maryland': 'MD', 'Massachusetts': 'MA', 'Michigan': 'MI', 'Minnesota': 'MN', 'Mississippi': 'MS',\n",
    "'Missouri': 'MO', 'Montana': 'MT', 'Nebraska': 'NE', 'Nevada': 'NV', 'New Hampshire': 'NH', 'New Jersey': 'NJ',\n",
    "'New Mexico': 'NM', 'New York': 'NY', 'North Carolina': 'NC', 'North Dakota': 'ND', 'Ohio': 'OH', 'Oklahoma': 'OK',\n",
    "'Oregon': 'OR', 'Pennsylvania': 'PA', 'Puerto Rico': 'PR', 'Rhode Island': 'RI', 'South Carolina': 'SC', 'South Dakota': 'SD',\n",
    "'Tennessee': 'TN', 'Texas': 'TX', 'Utah': 'UT', 'Vermont': 'VT', 'Virgin Islands': 'VI', 'Virginia': 'VA', 'Washington': 'WA',\n",
    "'West Virginia': 'WV', 'Wisconsin': 'WI', 'Wyoming': 'WY'}"
   ]
  },
  {
   "cell_type": "code",
   "execution_count": null,
   "id": "db75da4c",
   "metadata": {
    "scrolled": true
   },
   "outputs": [],
   "source": [
    "state_shipments['State'] = state_shipments['State'].map(state) #.fillna(df['State'])\n",
    "state_shipments"
   ]
  },
  {
   "cell_type": "code",
   "execution_count": null,
   "id": "0fb32788",
   "metadata": {},
   "outputs": [],
   "source": [
    "state_shipments = state_shipments [(state_shipments['State'] == 'OK') | (state_shipments['State'] == 'AL') |          \n",
    "                         (state_shipments['State'] == 'AR') | (state_shipments['State'] == 'FL') |\n",
    "                         (state_shipments['State'] == 'KS') | (state_shipments['State'] == 'IA') |\n",
    "                         (state_shipments['State'] ==  'MS')| (state_shipments['State'] == 'IL') |\n",
    "                         (state_shipments['State'] == 'LA') | (state_shipments['State'] == 'IN') |\n",
    "                         (state_shipments['State'] == 'NE') | (state_shipments['State'] == 'AR') |\n",
    "                         (state_shipments['State'] == 'SC') | (state_shipments['State'] == 'MO') |\n",
    "                         (state_shipments['State'] == 'TX') | (state_shipments['State'] == 'MD') |\n",
    "                         (state_shipments['State'] == 'TN')]"
   ]
  },
  {
   "cell_type": "code",
   "execution_count": null,
   "id": "71b10ab9",
   "metadata": {},
   "outputs": [],
   "source": [
    "state_shipments.to_csv('../data/house_shipments.csv')"
   ]
  },
  {
   "cell_type": "code",
   "execution_count": null,
   "id": "2e2ddc7f",
   "metadata": {},
   "outputs": [],
   "source": []
  }
 ],
 "metadata": {
  "kernelspec": {
   "display_name": "Python 3 (ipykernel)",
   "language": "python",
   "name": "python3"
  },
  "language_info": {
   "codemirror_mode": {
    "name": "ipython",
    "version": 3
   },
   "file_extension": ".py",
   "mimetype": "text/x-python",
   "name": "python",
   "nbconvert_exporter": "python",
   "pygments_lexer": "ipython3",
   "version": "3.10.9"
  }
 },
 "nbformat": 4,
 "nbformat_minor": 5
}
